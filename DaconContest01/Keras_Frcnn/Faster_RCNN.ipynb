{
 "cells": [
  {
   "cell_type": "code",
   "execution_count": 1,
   "metadata": {
    "scrolled": true
   },
   "outputs": [],
   "source": [
    "# 2.1.6버전이 아닐경우, rank error 발생..\n",
    "# !pip install --upgrade keras==2.1.6"
   ]
  },
  {
   "cell_type": "code",
   "execution_count": 2,
   "metadata": {},
   "outputs": [
    {
     "name": "stderr",
     "output_type": "stream",
     "text": [
      "Using TensorFlow backend.\n"
     ]
    },
    {
     "name": "stdout",
     "output_type": "stream",
     "text": [
      "2.1.6\n"
     ]
    }
   ],
   "source": [
    "from __future__ import division\n",
    "import os\n",
    "import cv2\n",
    "import matplotlib.pyplot as plt\n",
    "import numpy as np\n",
    "import sys\n",
    "import pickle\n",
    "import keras\n",
    "print(keras.__version__)"
   ]
  },
  {
   "cell_type": "code",
   "execution_count": 3,
   "metadata": {},
   "outputs": [],
   "source": [
    "from optparse import OptionParser\n",
    "import time\n",
    "from keras_frcnn import config\n",
    "from keras import backend as K\n",
    "from keras.layers import Input\n",
    "from keras.models import Model\n",
    "from keras_frcnn import roi_helpers\n",
    "\n",
    "%matplotlib inline"
   ]
  },
  {
   "cell_type": "code",
   "execution_count": 4,
   "metadata": {},
   "outputs": [
    {
     "name": "stdout",
     "output_type": "stream",
     "text": [
      "resnet50\n"
     ]
    }
   ],
   "source": [
    "# C = config file\n",
    "with open('config.pickle', 'rb') as f_in:\n",
    "    C = pickle.load(f_in)\n",
    "print(C.network)"
   ]
  },
  {
   "cell_type": "code",
   "execution_count": 5,
   "metadata": {},
   "outputs": [],
   "source": [
    "if C.network == 'resnet50':\n",
    "    import keras_frcnn.resnet as nn\n",
    "elif C.network == 'vgg':\n",
    "    import keras_frcnn.vgg as nn\n",
    "    \n",
    "C.use_horizontal_flips = False\n",
    "C.use_vertical_flips = False\n",
    "C.rot_90 = False"
   ]
  },
  {
   "cell_type": "code",
   "execution_count": 6,
   "metadata": {},
   "outputs": [
    {
     "data": {
      "text/plain": [
       "keras_frcnn.config.Config"
      ]
     },
     "execution_count": 6,
     "metadata": {},
     "output_type": "execute_result"
    }
   ],
   "source": [
    "type(C)"
   ]
  },
  {
   "cell_type": "code",
   "execution_count": 7,
   "metadata": {},
   "outputs": [],
   "source": [
    "# 변수 선언\n",
    "class_mapping = C.class_mapping"
   ]
  },
  {
   "cell_type": "code",
   "execution_count": 8,
   "metadata": {},
   "outputs": [
    {
     "data": {
      "text/plain": [
       "{'sheep': 13,\n",
       " 'horse': 9,\n",
       " 'bg': 20,\n",
       " 'bicycle': 4,\n",
       " 'motorbike': 11,\n",
       " 'cow': 19,\n",
       " 'sofa': 8,\n",
       " 'bus': 0,\n",
       " 'aeroplane': 16,\n",
       " 'dog': 3,\n",
       " 'cat': 12,\n",
       " 'person': 2,\n",
       " 'train': 18,\n",
       " 'boat': 10,\n",
       " 'bottle': 7,\n",
       " 'car': 1,\n",
       " 'pottedplant': 14,\n",
       " 'tvmonitor': 15,\n",
       " 'chair': 5,\n",
       " 'bird': 17,\n",
       " 'diningtable': 6}"
      ]
     },
     "execution_count": 8,
     "metadata": {},
     "output_type": "execute_result"
    }
   ],
   "source": [
    "# 확인\n",
    "class_mapping"
   ]
  },
  {
   "cell_type": "code",
   "execution_count": 9,
   "metadata": {},
   "outputs": [
    {
     "data": {
      "text/plain": [
       "dict_items([('sheep', 13), ('horse', 9), ('bg', 20), ('bicycle', 4), ('motorbike', 11), ('cow', 19), ('sofa', 8), ('bus', 0), ('aeroplane', 16), ('dog', 3), ('cat', 12), ('person', 2), ('train', 18), ('boat', 10), ('bottle', 7), ('car', 1), ('pottedplant', 14), ('tvmonitor', 15), ('chair', 5), ('bird', 17), ('diningtable', 6)])"
      ]
     },
     "execution_count": 9,
     "metadata": {},
     "output_type": "execute_result"
    }
   ],
   "source": [
    "# 확인\n",
    "class_mapping.items()"
   ]
  },
  {
   "cell_type": "code",
   "execution_count": 10,
   "metadata": {},
   "outputs": [],
   "source": [
    "# class_mapping의 key, value의 구성을 바꿈\n",
    "class_mapping = {v: k for k, v in class_mapping.items()}"
   ]
  },
  {
   "cell_type": "code",
   "execution_count": 11,
   "metadata": {},
   "outputs": [
    {
     "data": {
      "text/plain": [
       "{13: 'sheep',\n",
       " 9: 'horse',\n",
       " 20: 'bg',\n",
       " 4: 'bicycle',\n",
       " 11: 'motorbike',\n",
       " 19: 'cow',\n",
       " 8: 'sofa',\n",
       " 0: 'bus',\n",
       " 16: 'aeroplane',\n",
       " 3: 'dog',\n",
       " 12: 'cat',\n",
       " 2: 'person',\n",
       " 18: 'train',\n",
       " 10: 'boat',\n",
       " 7: 'bottle',\n",
       " 1: 'car',\n",
       " 14: 'pottedplant',\n",
       " 15: 'tvmonitor',\n",
       " 5: 'chair',\n",
       " 17: 'bird',\n",
       " 6: 'diningtable'}"
      ]
     },
     "execution_count": 11,
     "metadata": {},
     "output_type": "execute_result"
    }
   ],
   "source": [
    "# 확인\n",
    "class_mapping"
   ]
  },
  {
   "cell_type": "code",
   "execution_count": 12,
   "metadata": {},
   "outputs": [],
   "source": [
    "# 물체 하나 하나당 고유의 rgb값을 가지게해서 최종 출력할때 사용\n",
    "class_to_color = {class_mapping[v]: np.random.randint(0, 255, 3) for v in class_mapping}"
   ]
  },
  {
   "cell_type": "code",
   "execution_count": 13,
   "metadata": {},
   "outputs": [
    {
     "data": {
      "text/plain": [
       "{'sheep': array([154,   3,   2]),\n",
       " 'horse': array([ 51,  51, 243]),\n",
       " 'bg': array([120,  21, 248]),\n",
       " 'bicycle': array([228,  56,  71]),\n",
       " 'motorbike': array([244, 234, 199]),\n",
       " 'cow': array([12, 77, 15]),\n",
       " 'sofa': array([133, 147,  56]),\n",
       " 'bus': array([145, 226, 220]),\n",
       " 'aeroplane': array([ 23, 141, 104]),\n",
       " 'dog': array([156, 163,  35]),\n",
       " 'cat': array([ 17, 133,   8]),\n",
       " 'person': array([129, 127,  91]),\n",
       " 'train': array([ 98, 229,  28]),\n",
       " 'boat': array([185, 205,  36]),\n",
       " 'bottle': array([37, 91, 23]),\n",
       " 'car': array([ 37, 113,  27]),\n",
       " 'pottedplant': array([204,  59, 249]),\n",
       " 'tvmonitor': array([126, 135,  10]),\n",
       " 'chair': array([129, 115,  41]),\n",
       " 'bird': array([159,  21,  11]),\n",
       " 'diningtable': array([ 41, 225, 246])}"
      ]
     },
     "execution_count": 13,
     "metadata": {},
     "output_type": "execute_result"
    }
   ],
   "source": [
    "# 확인\n",
    "class_to_color"
   ]
  },
  {
   "cell_type": "code",
   "execution_count": 14,
   "metadata": {},
   "outputs": [],
   "source": [
    "# num_rois : roi의 개수를 뜻함.\n",
    "C.num_rois = int(32)"
   ]
  },
  {
   "cell_type": "code",
   "execution_count": 15,
   "metadata": {},
   "outputs": [
    {
     "name": "stdout",
     "output_type": "stream",
     "text": [
      "1024\n"
     ]
    }
   ],
   "source": [
    "if C.network == 'resnet50':\n",
    "    num_features = 1024\n",
    "elif C.network == 'vgg':\n",
    "    num_features = 512\n",
    "print(num_features)"
   ]
  },
  {
   "cell_type": "code",
   "execution_count": 16,
   "metadata": {},
   "outputs": [
    {
     "data": {
      "text/plain": [
       "<module 'keras.backend' from 'C:\\\\Users\\\\jungg\\\\Anaconda3\\\\lib\\\\site-packages\\\\keras\\\\backend\\\\__init__.py'>"
      ]
     },
     "execution_count": 16,
     "metadata": {},
     "output_type": "execute_result"
    }
   ],
   "source": [
    "K"
   ]
  },
  {
   "cell_type": "code",
   "execution_count": 17,
   "metadata": {},
   "outputs": [],
   "source": [
    "if K.common.image_dim_ordering() == 'th': # -> 케라스에서 theano backend를 사용한다는 것을 뜻함.\n",
    "    input_shape_img = (3, None, None)\n",
    "    input_shape_features = (num_features, None, None)\n",
    "    \n",
    "else: # tensorflow backend를 사용하기 때문에 선택됨.\n",
    "    input_shape_img = (None, None, 3)\n",
    "    input_shape_features = (None, None, num_features)"
   ]
  },
  {
   "cell_type": "code",
   "execution_count": 18,
   "metadata": {},
   "outputs": [
    {
     "data": {
      "text/plain": [
       "(None, None, 3)"
      ]
     },
     "execution_count": 18,
     "metadata": {},
     "output_type": "execute_result"
    }
   ],
   "source": [
    "# confirm\n",
    "input_shape_img"
   ]
  },
  {
   "cell_type": "code",
   "execution_count": 19,
   "metadata": {},
   "outputs": [
    {
     "data": {
      "text/plain": [
       "(None, None, 1024)"
      ]
     },
     "execution_count": 19,
     "metadata": {},
     "output_type": "execute_result"
    }
   ],
   "source": [
    "# confirm\n",
    "input_shape_features"
   ]
  },
  {
   "cell_type": "code",
   "execution_count": 20,
   "metadata": {},
   "outputs": [],
   "source": [
    "# 모델에 들어갈 input 정의\n",
    "img_input = Input(shape=input_shape_img)\n",
    "roi_input = Input(shape=(C.num_rois, 4))\n",
    "feature_map_input = Input(shape=input_shape_features)"
   ]
  },
  {
   "cell_type": "code",
   "execution_count": 21,
   "metadata": {},
   "outputs": [
    {
     "data": {
      "text/plain": [
       "<tf.Tensor 'input_1:0' shape=(?, ?, ?, 3) dtype=float32>"
      ]
     },
     "execution_count": 21,
     "metadata": {},
     "output_type": "execute_result"
    }
   ],
   "source": [
    "# confirm\n",
    "img_input"
   ]
  },
  {
   "cell_type": "code",
   "execution_count": 22,
   "metadata": {},
   "outputs": [
    {
     "data": {
      "text/plain": [
       "<tf.Tensor 'input_2:0' shape=(?, 32, 4) dtype=float32>"
      ]
     },
     "execution_count": 22,
     "metadata": {},
     "output_type": "execute_result"
    }
   ],
   "source": [
    "# confirm\n",
    "roi_input"
   ]
  },
  {
   "cell_type": "code",
   "execution_count": 23,
   "metadata": {},
   "outputs": [
    {
     "data": {
      "text/plain": [
       "<tf.Tensor 'input_3:0' shape=(?, ?, ?, 1024) dtype=float32>"
      ]
     },
     "execution_count": 23,
     "metadata": {},
     "output_type": "execute_result"
    }
   ],
   "source": [
    "# confirm\n",
    "feature_map_input"
   ]
  },
  {
   "cell_type": "code",
   "execution_count": 24,
   "metadata": {},
   "outputs": [
    {
     "name": "stdout",
     "output_type": "stream",
     "text": [
      "WARNING:tensorflow:From C:\\Users\\jungg\\Anaconda3\\lib\\site-packages\\tensorflow\\python\\framework\\op_def_library.py:263: colocate_with (from tensorflow.python.framework.ops) is deprecated and will be removed in a future version.\n",
      "Instructions for updating:\n",
      "Colocations handled automatically by placer.\n"
     ]
    }
   ],
   "source": [
    "# define the base network (resnet here, can be VGG, Inception, etc)\n",
    "shared_layers = nn.nn_base(img_input, trainable=True)"
   ]
  },
  {
   "cell_type": "code",
   "execution_count": 25,
   "metadata": {},
   "outputs": [
    {
     "data": {
      "text/plain": [
       "<tf.Tensor 'activation_40/Relu:0' shape=(?, ?, ?, 1024) dtype=float32>"
      ]
     },
     "execution_count": 25,
     "metadata": {},
     "output_type": "execute_result"
    }
   ],
   "source": [
    "# confirm\n",
    "shared_layers"
   ]
  },
  {
   "cell_type": "code",
   "execution_count": 26,
   "metadata": {},
   "outputs": [
    {
     "name": "stdout",
     "output_type": "stream",
     "text": [
      "ancor 갯수  9\n"
     ]
    }
   ],
   "source": [
    "# define the RPN, built on the base layers\n",
    "num_anchors = len(C.anchor_box_scales) * len(C.anchor_box_ratios)\n",
    "print('ancor 갯수 ',num_anchors)"
   ]
  },
  {
   "cell_type": "code",
   "execution_count": 27,
   "metadata": {},
   "outputs": [],
   "source": [
    "rpn_layers = nn.rpn(shared_layers, num_anchors)"
   ]
  },
  {
   "cell_type": "code",
   "execution_count": 28,
   "metadata": {},
   "outputs": [
    {
     "data": {
      "text/plain": [
       "[<tf.Tensor 'rpn_out_class/Sigmoid:0' shape=(?, ?, ?, 9) dtype=float32>,\n",
       " <tf.Tensor 'rpn_out_regress/BiasAdd:0' shape=(?, ?, ?, 36) dtype=float32>,\n",
       " <tf.Tensor 'activation_40/Relu:0' shape=(?, ?, ?, 1024) dtype=float32>]"
      ]
     },
     "execution_count": 28,
     "metadata": {},
     "output_type": "execute_result"
    }
   ],
   "source": [
    "# confirm\n",
    "rpn_layers"
   ]
  },
  {
   "cell_type": "code",
   "execution_count": 29,
   "metadata": {},
   "outputs": [],
   "source": [
    "classifier = nn.classifier(feature_map_input, roi_input, C.num_rois, nb_classes=len(class_mapping), trainable=True)"
   ]
  },
  {
   "cell_type": "code",
   "execution_count": 30,
   "metadata": {},
   "outputs": [
    {
     "data": {
      "text/plain": [
       "[<tf.Tensor 'dense_class_21/Reshape_1:0' shape=(1, 32, 21) dtype=float32>,\n",
       " <tf.Tensor 'dense_regress_21/Reshape_1:0' shape=(1, 32, 80) dtype=float32>]"
      ]
     },
     "execution_count": 30,
     "metadata": {},
     "output_type": "execute_result"
    }
   ],
   "source": [
    "# confirm\n",
    "classifier"
   ]
  },
  {
   "cell_type": "code",
   "execution_count": 31,
   "metadata": {},
   "outputs": [
    {
     "name": "stderr",
     "output_type": "stream",
     "text": [
      "C:\\Users\\jungg\\Anaconda3\\lib\\site-packages\\ipykernel_launcher.py:1: UserWarning: Update your `Model` call to the Keras 2 API: `Model(inputs=Tensor(\"in..., outputs=[<tf.Tenso...)`\n",
      "  \"\"\"Entry point for launching an IPython kernel.\n"
     ]
    }
   ],
   "source": [
    "model_rpn = Model(input=img_input, output=rpn_layers)\n",
    "model_classifier_only = Model([feature_map_input, roi_input], classifier)\n",
    "model_classifier = Model([feature_map_input, roi_input], classifier)"
   ]
  },
  {
   "cell_type": "code",
   "execution_count": 32,
   "metadata": {},
   "outputs": [
    {
     "name": "stdout",
     "output_type": "stream",
     "text": [
      "Loading weights from ./model_frcnn.hdf5\n"
     ]
    }
   ],
   "source": [
    "print('Loading weights from {}'.format(C.model_path))\n",
    "model_rpn.load_weights(C.model_path, by_name=True)\n",
    "model_classifier.load_weights(C.model_path, by_name=True)"
   ]
  },
  {
   "cell_type": "code",
   "execution_count": 33,
   "metadata": {
    "scrolled": false
   },
   "outputs": [],
   "source": [
    "model_rpn.compile(optimizer='sgd', loss='mse')\n",
    "model_classifier.compile(optimizer='sgd', loss='mse')"
   ]
  },
  {
   "cell_type": "code",
   "execution_count": 34,
   "metadata": {},
   "outputs": [],
   "source": [
    "#!pip install pydot"
   ]
  },
  {
   "cell_type": "code",
   "execution_count": 35,
   "metadata": {},
   "outputs": [],
   "source": [
    "# import keras\n",
    "# import pydot as pyd\n",
    "# from IPython.display import SVG\n",
    "# from keras.utils.vis_utils import model_to_dot\n",
    "\n",
    "# keras.utils.vis_utils.pydot = pyd\n",
    "\n",
    "# #Visualize Model\n",
    "# #create your model\n",
    "# #then call the function on your model\n",
    "\n",
    "# SVG(model_to_dot(model_rpn,show_shapes=True).create(prog='dot', format='svg'))\n",
    "\n",
    "# from keras.utils import plot_model\n",
    "# plot_model(model_rpn, to_file='non_resnet+rpn_model.png',show_shapes=True)\n",
    "# plot_model(model_classifier, to_file='non_classifier_model.png',show_shapes=True)"
   ]
  },
  {
   "cell_type": "code",
   "execution_count": 36,
   "metadata": {},
   "outputs": [
    {
     "data": {
      "image/png": "[encoded data removed]",
      "text/plain": [
       "<Figure size 432x288 with 1 Axes>"
      ]
     },
     "metadata": {
      "needs_background": "light"
     },
     "output_type": "display_data"
    },
    {
     "name": "stdout",
     "output_type": "stream",
     "text": [
      "(168, 300, 3)\n",
      "resize 전 (168, 300, 3)\n",
      "resize 후 (1, 3, 600, 1071)\n",
      "전/후 ratio 값 3.5714285714285716\n",
      "scaler 전 [0 0 0]\n",
      "scaler 후 -103.939 -116.779 -123.68\n",
      "(1, 600, 1071, 3)\n"
     ]
    }
   ],
   "source": [
    "##### predict start #####\n",
    "#img_path = 'bicycles.jpg'\n",
    "img_path='images.jpg'\n",
    "img = cv2.imread(img_path)\n",
    "plt.imshow(img)\n",
    "plt.show()\n",
    "print(img.shape)\n",
    "\n",
    "###################### 이미지 전처리 #######################\n",
    "# resize + scaler\n",
    "def format_img_size(img, C):\n",
    "    \"\"\" formats the image size based on config \"\"\"\n",
    "    img_min_side = float(C.im_size)\n",
    "    (height,width,_) = img.shape\n",
    "    if width <= height:\n",
    "        ratio = img_min_side/width\n",
    "        new_height = int(ratio * height)\n",
    "        new_width = int(img_min_side)\n",
    "    else:\n",
    "        ratio = img_min_side/height\n",
    "        new_width = int(ratio * width)\n",
    "        new_height = int(img_min_side)\n",
    "    img = cv2.resize(img, (new_width, new_height), interpolation=cv2.INTER_CUBIC)\n",
    "    return img, ratio\n",
    "\n",
    "def format_img_channels(img, C):\n",
    "    \"\"\" formats the image channels based on config \"\"\"\n",
    "    img = img[:, :, (2, 1, 0)]\n",
    "    img = img.astype(np.float32)\n",
    "    img[:, :, 0] -= C.img_channel_mean[0]\n",
    "    img[:, :, 1] -= C.img_channel_mean[1]\n",
    "    img[:, :, 2] -= C.img_channel_mean[2]\n",
    "    img /= C.img_scaling_factor\n",
    "    img = np.transpose(img, (2, 0, 1))\n",
    "    img = np.expand_dims(img, axis=0)\n",
    "    return img\n",
    "\n",
    "def format_img(img, C):\n",
    "    \"\"\" formats an image for model prediction based on config \"\"\"\n",
    "    img, ratio = format_img_size(img, C)\n",
    "    img = format_img_channels(img, C)\n",
    "    return img, ratio\n",
    "\n",
    "X, ratio = format_img(img, C)\n",
    "print('resize 전',img.shape)\n",
    "print('resize 후',X.shape)\n",
    "print('전/후 ratio 값',ratio)\n",
    "\n",
    "# format_img_size + format_img_channels = format_img\n",
    "# resize : 638,960 > 600,902 + ratio = 0.9404388714733543 + std\n",
    "# 픽셀값들을 전처리 \n",
    "# img_scaling_factor = 1.0 , img_channel_mean = [103.939, 116.779, 123.68]\n",
    "\n",
    "print('scaler 전',img[0][0])\n",
    "print('scaler 후',X[0][0][0][0],X[0][1][0][0],X[0][2][0][0])\n",
    "\n",
    "if K.image_dim_ordering() == 'tf':\n",
    "    X = np.transpose(X, (0, 2, 3, 1))\n",
    "print(X.shape)"
   ]
  },
  {
   "attachments": {
    "frcnn.png": {
     "image/png": "[encoded data removed]"
    }
   },
   "cell_type": "markdown",
   "metadata": {},
   "source": [
    "![frcnn.png](attachment:frcnn.png)"
   ]
  },
  {
   "cell_type": "code",
   "execution_count": 37,
   "metadata": {
    "scrolled": true
   },
   "outputs": [
    {
     "name": "stdout",
     "output_type": "stream",
     "text": [
      "(1, 38, 67, 9)\n",
      "(1, 38, 67, 36)\n",
      "(1, 38, 67, 1024)\n"
     ]
    }
   ],
   "source": [
    "# 전처리된 이미지로 앞서 선언한 RPN 모델 실행\n",
    "[Y1, Y2, F] = model_rpn.predict(X)\n",
    "print(Y1.shape) # 물체일 확률, 제안값\n",
    "print(Y2.shape) # roi (x1,y1,x2,y2) 물체영역 제안 \n",
    "# 제안값 + 물체영역으로 높은 확률의 roi만 가져온다.\n",
    "print(F.shape) # 특성맵"
   ]
  },
  {
   "cell_type": "code",
   "execution_count": 38,
   "metadata": {},
   "outputs": [],
   "source": [
    "def non_max_suppression_fast(boxes, probs, overlap_thresh=0.9, max_boxes=300):\n",
    "    # code used from here: http://www.pyimagesearch.com/2015/02/16/faster-non-maximum-suppression-python/\n",
    "    # if there are no boxes, return an empty list\n",
    "    if len(boxes) == 0:\n",
    "        return []\n",
    "\n",
    "    # grab the coordinates of the bounding boxes\n",
    "    x1 = boxes[:, 0]\n",
    "    y1 = boxes[:, 1]\n",
    "    x2 = boxes[:, 2]\n",
    "    y2 = boxes[:, 3]\n",
    "\n",
    "    np.testing.assert_array_less(x1, x2)\n",
    "    np.testing.assert_array_less(y1, y2)\n",
    "\n",
    "    # if the bounding boxes integers, convert them to floats --\n",
    "    # this is important since we'll be doing a bunch of divisions\n",
    "    if boxes.dtype.kind == \"i\":\n",
    "        boxes = boxes.astype(\"float\")\n",
    "\n",
    "    # initialize the list of picked indexes\t\n",
    "    pick = []\n",
    "\n",
    "    # calculate the areas\n",
    "    area = (x2 - x1) * (y2 - y1)\n",
    "\n",
    "    # sort the bounding boxes \n",
    "    idxs = np.argsort(probs)\n",
    "\n",
    "    # keep looping while some indexes still remain in the indexes\n",
    "    # list\n",
    "    while len(idxs) > 0:\n",
    "        # grab the last index in the indexes list and add the\n",
    "        # index value to the list of picked indexes\n",
    "        last = len(idxs) - 1\n",
    "        i = idxs[last]\n",
    "        pick.append(i)\n",
    "\n",
    "        # find the intersection\n",
    "\n",
    "        xx1_int = np.maximum(x1[i], x1[idxs[:last]])\n",
    "        yy1_int = np.maximum(y1[i], y1[idxs[:last]])\n",
    "        xx2_int = np.minimum(x2[i], x2[idxs[:last]])\n",
    "        yy2_int = np.minimum(y2[i], y2[idxs[:last]])\n",
    "\n",
    "        ww_int = np.maximum(0, xx2_int - xx1_int)\n",
    "        hh_int = np.maximum(0, yy2_int - yy1_int)\n",
    "\n",
    "        area_int = ww_int * hh_int\n",
    "\n",
    "        # find the union\n",
    "        area_union = area[i] + area[idxs[:last]] - area_int\n",
    "\n",
    "        # compute the ratio of overlap\n",
    "        overlap = area_int/(area_union + 1e-6)\n",
    "\n",
    "        # delete all indexes from the index list that have\n",
    "        idxs = np.delete(idxs, np.concatenate(([last],np.where(overlap > overlap_thresh)[0])))\n",
    "\n",
    "        if len(pick) >= max_boxes:\n",
    "            break\n",
    "\n",
    "    # return only the bounding boxes that were picked using the integer data type\n",
    "    boxes = boxes[pick].astype(\"int\")\n",
    "    probs = probs[pick]\n",
    "    return boxes, probs"
   ]
  },
  {
   "cell_type": "code",
   "execution_count": 39,
   "metadata": {
    "scrolled": false
   },
   "outputs": [
    {
     "name": "stdout",
     "output_type": "stream",
     "text": [
      "8.0 8.0\n",
      "[-4.  0.  0.  0.  0.  0.  0.  0.  0.]\n",
      "[-2.  0.  0.  0.  0.  0.  0.  0.  0.]\n",
      "8.0 16.0\n",
      "[ 0. -4.  0.  0.  0.  0.  0.  0.  0.]\n",
      "[ 0. -5.  0.  0.  0.  0.  0.  0.  0.]\n",
      "16.0 8.0\n",
      "[ 0.  0. -8.  0.  0.  0.  0.  0.  0.]\n",
      "[ 0.  0. -4.  0.  0.  0.  0.  0.  0.]\n",
      "16.0 16.0\n",
      "[ 0.  0.  0. -8.  0.  0.  0.  0.  0.]\n",
      "[ 0.  0.  0. -9.  0.  0.  0.  0.  0.]\n",
      "16.0 32.0\n",
      "[ 0.  0.  0.  0. -8.  0.  0.  0.  0.]\n",
      "[  0.   0.   0.   0. -12.   0.   0.   0.   0.]\n",
      "32.0 16.0\n",
      "[  0.   0.   0.   0.   0. -16.   0.   0.   0.]\n",
      "[  0.   0.   0.   0.   0. -15.   0.   0.   0.]\n",
      "32.0 32.0\n",
      "[  0.   0.   0.   0.   0.   0. -16.   0.   0.]\n",
      "[  0.   0.   0.   0.   0.   0. -16.   0.   0.]\n",
      "32.0 64.0\n",
      "[  0.   0.   0.   0.   0.   0.   0. -16.   0.]\n",
      "[  0.   0.   0.   0.   0.   0.   0. -31.   0.]\n",
      "64.0 32.0\n",
      "[  0.   0.   0.   0.   0.   0.   0.   0. -32.]\n",
      "[  0.   0.   0.   0.   0.   0.   0.   0. -34.]\n",
      "22914\n",
      "(22914,)\n"
     ]
    },
    {
     "data": {
      "text/plain": [
       "<matplotlib.image.AxesImage at 0x22d62ce1448>"
      ]
     },
     "execution_count": 39,
     "metadata": {},
     "output_type": "execute_result"
    },
    {
     "data": {
      "image/png": "[encoded data removed]",
      "text/plain": [
       "<Figure size 720x720 with 1 Axes>"
      ]
     },
     "metadata": {
      "needs_background": "light"
     },
     "output_type": "display_data"
    }
   ],
   "source": [
    "def apply_regr_np(X, T):\n",
    "    try:\n",
    "        x = X[0, :, :]\n",
    "        y = X[1, :, :]\n",
    "        w = X[2, :, :]\n",
    "        h = X[3, :, :]\n",
    "\n",
    "        tx = T[0, :, :]\n",
    "        ty = T[1, :, :]\n",
    "        tw = T[2, :, :]\n",
    "        th = T[3, :, :]\n",
    "\n",
    "        cx = x + w/2.\n",
    "        cy = y + h/2.\n",
    "        cx1 = tx * w + cx\n",
    "        cy1 = ty * h + cy\n",
    "\n",
    "        w1 = np.exp(tw.astype(np.float64)) * w\n",
    "        h1 = np.exp(th.astype(np.float64)) * h\n",
    "        x1 = cx1 - w1/2.\n",
    "        y1 = cy1 - h1/2.\n",
    "\n",
    "        x1 = np.round(x1)\n",
    "        y1 = np.round(y1)\n",
    "        w1 = np.round(w1)\n",
    "        h1 = np.round(h1)\n",
    "        return np.stack([x1, y1, w1, h1])\n",
    "    except Exception as e:\n",
    "        print(e)\n",
    "        return X\n",
    "    \n",
    "def rpn_to_roi1(rpn_layer, regr_layer, C, dim_ordering, use_regr=True, max_boxes=300,overlap_thresh=0.9):\n",
    "    # 왜하는거임\n",
    "    regr_layer = regr_layer / C.std_scaling\n",
    "\n",
    "    anchor_sizes = C.anchor_box_scales\n",
    "    anchor_ratios = C.anchor_box_ratios\n",
    "\n",
    "    assert rpn_layer.shape[0] == 1\n",
    "\n",
    "    if dim_ordering == 'th':\n",
    "        (rows,cols) = rpn_layer.shape[2:]\n",
    "\n",
    "    elif dim_ordering == 'tf':\n",
    "        (rows, cols) = rpn_layer.shape[1:3]\n",
    "\n",
    "    curr_layer = 0\n",
    "    if dim_ordering == 'tf':\n",
    "        A = np.zeros((4, rpn_layer.shape[1], rpn_layer.shape[2], rpn_layer.shape[3]))\n",
    "    elif dim_ordering == 'th':\n",
    "        A = np.zeros((4, rpn_layer.shape[2], rpn_layer.shape[3], rpn_layer.shape[1]))\n",
    "\n",
    "    for anchor_size in anchor_sizes:\n",
    "        for anchor_ratio in anchor_ratios:\n",
    "\n",
    "            anchor_x = (anchor_size * anchor_ratio[0])/C.rpn_stride\n",
    "            anchor_y = (anchor_size * anchor_ratio[1])/C.rpn_stride\n",
    "            print(anchor_x,anchor_y)\n",
    "            if dim_ordering == 'th':\n",
    "                regr = regr_layer[0, 4 * curr_layer:4 * curr_layer + 4, :, :]\n",
    "            else:\n",
    "                regr = regr_layer[0, :, :, 4 * curr_layer:4 * curr_layer + 4]\n",
    "                regr = np.transpose(regr, (2, 0, 1))\n",
    "\n",
    "            X, Y = np.meshgrid(np.arange(cols),np.arange(rows))\n",
    "            # x1\n",
    "            A[0, :, :, curr_layer] = X - anchor_x/2\n",
    "            # y1\n",
    "            A[1, :, :, curr_layer] = Y - anchor_y/2\n",
    "            # x2\n",
    "            A[2, :, :, curr_layer] = anchor_x\n",
    "            # y2\n",
    "            A[3, :, :, curr_layer] = anchor_y\n",
    "            print(A[0][0][0])\n",
    "            if use_regr:\n",
    "                A[:, :, :, curr_layer] = apply_regr_np(A[:, :, :, curr_layer], regr)\n",
    "            print(A[0][0][0])\n",
    "            A[2, :, :, curr_layer] = np.maximum(1, A[2, :, :, curr_layer])\n",
    "            A[3, :, :, curr_layer] = np.maximum(1, A[3, :, :, curr_layer])\n",
    "            A[2, :, :, curr_layer] += A[0, :, :, curr_layer]\n",
    "            A[3, :, :, curr_layer] += A[1, :, :, curr_layer]\n",
    "\n",
    "            A[0, :, :, curr_layer] = np.maximum(0, A[0, :, :, curr_layer])\n",
    "            A[1, :, :, curr_layer] = np.maximum(0, A[1, :, :, curr_layer])\n",
    "            A[2, :, :, curr_layer] = np.minimum(cols-1, A[2, :, :, curr_layer])\n",
    "            A[3, :, :, curr_layer] = np.minimum(rows-1, A[3, :, :, curr_layer])\n",
    "            # A shape = (4, 38, 57, 9)\n",
    "            curr_layer += 1\n",
    "    # x1의 2번째 앵커들\n",
    "   \n",
    "    all_boxes = np.reshape(A.transpose((0, 3, 1,2)), (4, -1)).transpose((1, 0))\n",
    "    all_probs = rpn_layer.transpose((0, 3, 1, 2)).reshape((-1))\n",
    "\n",
    "    x1 = all_boxes[:, 0]\n",
    "    y1 = all_boxes[:, 1]\n",
    "    x2 = all_boxes[:, 2]\n",
    "    y2 = all_boxes[:, 3]\n",
    "#     print(x1)\n",
    "    idxs = np.where((x1 - x2 >= 0) | (y1 - y2 >= 0))\n",
    "#     print(len(idxs[0]))\n",
    "#     print(A.shape)\n",
    "#     print(A.transpose((0, 3, 1,2)).shape)\n",
    "#     print(np.reshape(A.transpose((0, 3, 1,2)), (4, -1)).shape)\n",
    "#     print('row cols',rows,cols)\n",
    "#     print(A.transpose((0, 3, 1,2)), (4, -1)).transpose((1, 0).shape)\n",
    "    all_boxes = np.delete(all_boxes, idxs, 0)\n",
    "    all_probs = np.delete(all_probs, idxs, 0)\n",
    "    return all_boxes, all_probs\n",
    "\n",
    "all_box, all_pro = rpn_to_roi1(Y1, Y2, C, K.image_dim_ordering(), overlap_thresh=0.7)\n",
    "print(Y1.shape[0]*Y1.shape[1]*Y1.shape[2]*Y1.shape[3])\n",
    "\n",
    "print(all_pro.shape)\n",
    "\n",
    "\n",
    "X, Y = np.meshgrid(np.arange(38),np.arange(57))\n",
    "# print(X)\n",
    "# print(Y)\n",
    "\n",
    "import cv2 as cv\n",
    "# 사각형 그리기\n",
    "img_sq = np.full((38,57,3),255,np.uint8)\n",
    "for i in range(2000,3000):\n",
    "    box = all_box[i]\n",
    "    box = [int(x) for x in box]\n",
    "#     print(box)\n",
    "    color = [int(x) for x in np.random.randint(0, 255, 3)]\n",
    "    img_sq = cv.rectangle(img_sq, (box[0],box[1]),(box[2],box[3]),(color[0],color[1],color[2]),1)\n",
    "plt.figure(figsize=(10, 10))\n",
    "plt.imshow(img_sq)"
   ]
  },
  {
   "cell_type": "code",
   "execution_count": 40,
   "metadata": {},
   "outputs": [
    {
     "name": "stdout",
     "output_type": "stream",
     "text": [
      "(300, 4)\n",
      "[37 18 29 19]\n",
      "8.6426735e-07\n",
      "[44  8 22 29]\n",
      "0.86897105\n"
     ]
    }
   ],
   "source": [
    "# Y1+Y2 > R 확률이 높은 300개의 roi값만가져온다\n",
    "R = roi_helpers.rpn_to_roi(Y1, Y2, C, K.image_dim_ordering(), overlap_thresh=0.7)\n",
    "# convert from (x1,y1,x2,y2) to (x,y,w,h)\n",
    "R[:, 2] -= R[:, 0]\n",
    "R[:, 3] -= R[:, 1]\n",
    "\n",
    "# x, y, w, h value\n",
    "print(R.shape)\n",
    "# R[0]는 한roi영역, Y1[0][0][0][0]는 0번째 roi의 가능성, 확률값..?\n",
    "print(R[0])\n",
    "print(Y1[0][0][0][0])\n",
    "print(R[5])\n",
    "print(Y1[0][0][0][5])"
   ]
  },
  {
   "cell_type": "code",
   "execution_count": 41,
   "metadata": {},
   "outputs": [
    {
     "name": "stdout",
     "output_type": "stream",
     "text": [
      "(300, 4)\n",
      "(1, 32, 4)\n",
      "(1, 32, 4)\n",
      "(1, 32, 21)\n",
      "(1, 32, 80)\n",
      "person\n",
      "34 7 15 30\n",
      "38 6 11 32\n",
      "person\n",
      "51 14 2 4\n",
      "51 15 2 4\n",
      "person\n",
      "36 8 14 18\n",
      "37 6 12 25\n",
      "person\n",
      "39 14 12 23\n",
      "39 8 9 30\n",
      "16\n",
      "[8.0, 8.0, 4.0, 4.0]\n"
     ]
    }
   ],
   "source": [
    "jk = 2\n",
    "print(R.shape)\n",
    "\n",
    "bbox_threshold = 0.8\n",
    "bboxes = {}\n",
    "probs = {}\n",
    "\n",
    "# ex) 300의 roi가 있을경우 32개씩 나눠서 classifier 모델에 넣게된다.\n",
    "# 그럴경우 300은 32로 딱 나눠떨어지지 않으니 남은 roi는 일정한 값을 넣어준다.\n",
    "ROIs = np.expand_dims(R[C.num_rois*jk:C.num_rois*(jk+1), :], axis=0)\n",
    "print(ROIs.shape)\n",
    "if jk == R.shape[0]//C.num_rois:\n",
    "    #pad R\n",
    "    curr_shape = ROIs.shape\n",
    "    target_shape = (curr_shape[0],C.num_rois,curr_shape[2])\n",
    "    ROIs_padded = np.zeros(target_shape).astype(ROIs.dtype)\n",
    "    ROIs_padded[:, :curr_shape[1], :] = ROIs\n",
    "    ROIs_padded[0, curr_shape[1]:, :] = ROIs[0, 0, :]\n",
    "    ROIs = ROIs_padded\n",
    "print(ROIs.shape)\n",
    "[P_cls, P_regr] = model_classifier_only.predict([F, ROIs])\n",
    "# P_cls 스코어\n",
    "print(P_cls.shape)\n",
    "# P_regr 해당하는 roi\n",
    "print(P_regr.shape)\n",
    "\n",
    "for ii in range(P_cls.shape[1]):\n",
    "    if np.max(P_cls[0, ii, :]) < bbox_threshold or np.argmax(P_cls[0, ii, :]) == (P_cls.shape[2] - 1):\n",
    "        continue\n",
    "    cls_name = class_mapping[np.argmax(P_cls[0, ii, :])]\n",
    "    print(cls_name)\n",
    "    if cls_name not in bboxes:\n",
    "        bboxes[cls_name] = []\n",
    "        probs[cls_name] = []\n",
    "\n",
    "    (x, y, w, h) = ROIs[0, ii, :]\n",
    "    print(x,y,w,h)\n",
    "    cls_num = np.argmax(P_cls[0, ii, :])\n",
    "    try:\n",
    "        (tx, ty, tw, th) = P_regr[0, ii, 4*cls_num:4*(cls_num+1)]\n",
    "        tx /= C.classifier_regr_std[0]\n",
    "        ty /= C.classifier_regr_std[1]\n",
    "        tw /= C.classifier_regr_std[2]\n",
    "        th /= C.classifier_regr_std[3]\n",
    "        x, y, w, h = roi_helpers.apply_regr(x, y, w, h, tx, ty, tw, th)\n",
    "        print(x,y,w,h)\n",
    "    except:\n",
    "        pass\n",
    "    bboxes[cls_name].append([C.rpn_stride*x, C.rpn_stride*y, C.rpn_stride*(x+w), C.rpn_stride*(y+h)])\n",
    "    probs[cls_name].append(np.max(P_cls[0, ii, :]))\n",
    "print(C.rpn_stride)\n",
    "print(C.classifier_regr_std)\n",
    "# box list\n",
    "# print(bboxes)\n",
    "# print(probs)"
   ]
  },
  {
   "cell_type": "code",
   "execution_count": 42,
   "metadata": {},
   "outputs": [
    {
     "name": "stdout",
     "output_type": "stream",
     "text": [
      "300개의 roi를 32으로 자르면, 10번의 for문을 돌려야한다.\n"
     ]
    }
   ],
   "source": [
    "print(f'{R.shape[0]}개의 roi를 {C.num_rois}으로 자르면, {R.shape[0]//C.num_rois + 1}번의 for문을 돌려야한다.')"
   ]
  },
  {
   "cell_type": "code",
   "execution_count": 43,
   "metadata": {
    "scrolled": false
   },
   "outputs": [
    {
     "name": "stdout",
     "output_type": "stream",
     "text": [
      "0 : P_cls (1, 32, 21)\n",
      "0 : P_regr (1, 32, 80)\n",
      "1 : P_cls (1, 32, 21)\n",
      "1 : P_regr (1, 32, 80)\n",
      "0.81608737\n",
      "0.9222433\n",
      "0.83143705\n",
      "2 : P_cls (1, 32, 21)\n",
      "2 : P_regr (1, 32, 80)\n",
      "0.9836142\n",
      "0.8903441\n",
      "0.8728141\n",
      "0.8688854\n",
      "3 : P_cls (1, 32, 21)\n",
      "3 : P_regr (1, 32, 80)\n",
      "0.880175\n",
      "0.9775639\n",
      "4 : P_cls (1, 32, 21)\n",
      "4 : P_regr (1, 32, 80)\n",
      "5 : P_cls (1, 32, 21)\n",
      "5 : P_regr (1, 32, 80)\n",
      "6 : P_cls (1, 32, 21)\n",
      "6 : P_regr (1, 32, 80)\n",
      "7 : P_cls (1, 32, 21)\n",
      "7 : P_regr (1, 32, 80)\n",
      "8 : P_cls (1, 32, 21)\n",
      "8 : P_regr (1, 32, 80)\n",
      "9 : P_cls (1, 32, 21)\n",
      "9 : P_regr (1, 32, 80)\n"
     ]
    }
   ],
   "source": [
    "# 300개의 물체가 있을 가능성이있는 ROI(ROIs)들과 특성맵(F)를 calssifier모델에 넣어서 \n",
    "# roi들의 label을 추측하고, 가장 가능성 높은 roi들을 최종 출력으로 선택한다.\n",
    "bboxes = {}\n",
    "probs = {}\n",
    "bbox_threshold = 0.8\n",
    "# 300개의 ROI를 한번에 classifier에 넣어줄경우 오래걸리기때문에 나눠서 넣어준다..?\n",
    "for jk in range(R.shape[0]//C.num_rois + 1):\n",
    "    ROIs = np.expand_dims(R[C.num_rois*jk:C.num_rois*(jk+1), :], axis=0)\n",
    "    if ROIs.shape[1] == 0:\n",
    "        break\n",
    "        \n",
    "    # 300개의 roi들을 33번씩 10번반복했을때 10번째 반복일경우, 30개의 roi가 부족하다. \n",
    "    # 그것을 일정한 roi들을 복사헤 인위적으로 넣어준다.\n",
    "    if jk == R.shape[0]//C.num_rois:\n",
    "        #pad R\n",
    "        curr_shape = ROIs.shape\n",
    "        target_shape = (curr_shape[0],C.num_rois,curr_shape[2])\n",
    "        ROIs_padded = np.zeros(target_shape).astype(ROIs.dtype)\n",
    "        ROIs_padded[:, :curr_shape[1], :] = ROIs\n",
    "        ROIs_padded[0, curr_shape[1]:, :] = ROIs[0, 0, :]\n",
    "        ROIs = ROIs_padded\n",
    "    \n",
    "    # *************** 앞서 선언한 classifier 모델 실행!! ***************\n",
    "    [P_cls, P_regr] = model_classifier_only.predict([F, ROIs])\n",
    "    # cls = 점수, regr = Roi\n",
    "    print(jk,': P_cls',P_cls.shape)\n",
    "    print(jk,': P_regr',P_regr.shape)\n",
    "    for ii in range(P_cls.shape[1]):\n",
    "        # 32개의 score값들을 보고 score가 0.8이상인 값만 대상으로 한다.\n",
    "        if np.max(P_cls[0, ii, :]) < bbox_threshold or np.argmax(P_cls[0, ii, :]) == (P_cls.shape[2] - 1):\n",
    "            continue\n",
    "        \n",
    "        # ex) cls_name = human\n",
    "        cls_name = class_mapping[np.argmax(P_cls[0, ii, :])]\n",
    "        # dic에 이름에 해당하는 key값이 없을경우 []로 초기화\n",
    "        if cls_name not in bboxes:\n",
    "            bboxes[cls_name] = []\n",
    "            probs[cls_name] = []\n",
    "\n",
    "        (x, y, w, h) = ROIs[0, ii, :]\n",
    "        \n",
    "        # ex) cls_num = 0\n",
    "        cls_num = np.argmax(P_cls[0, ii, :])\n",
    "        try:\n",
    "            (tx, ty, tw, th) = P_regr[0, ii, 4*cls_num:4*(cls_num+1)]\n",
    "            tx /= C.classifier_regr_std[0]\n",
    "            ty /= C.classifier_regr_std[1]\n",
    "            tw /= C.classifier_regr_std[2]\n",
    "            th /= C.classifier_regr_std[3]\n",
    "            x, y, w, h = roi_helpers.apply_regr(x, y, w, h, tx, ty, tw, th)\n",
    "        except:\n",
    "            pass\n",
    "        print(np.max(P_cls[0, ii, :]))\n",
    "        bboxes[cls_name].append([C.rpn_stride*x, C.rpn_stride*y, C.rpn_stride*(x+w), C.rpn_stride*(y+h)])\n",
    "        probs[cls_name].append(np.max(P_cls[0, ii, :]))\n",
    "# 최종 box와 score들\n",
    "# print(bboxes)\n",
    "# print(probs)"
   ]
  },
  {
   "cell_type": "code",
   "execution_count": 44,
   "metadata": {},
   "outputs": [
    {
     "name": "stdout",
     "output_type": "stream",
     "text": [
      "before (9, 4) (9,)\n",
      "after (3, 4) (3,)\n",
      "[('person', 98.36142063140869), ('person', 89.03440833091736), ('person', 81.60873651504517)]\n"
     ]
    },
    {
     "data": {
      "image/png": "[encoded data removed]",
      "text/plain": [
       "<Figure size 432x288 with 1 Axes>"
      ]
     },
     "metadata": {
      "needs_background": "light"
     },
     "output_type": "display_data"
    },
    {
     "data": {
      "text/plain": [
       "True"
      ]
     },
     "execution_count": 44,
     "metadata": {},
     "output_type": "execute_result"
    }
   ],
   "source": [
    "# 600,902 > 630,960으로 바꾼다.\n",
    "def get_real_coordinates(ratio, x1, y1, x2, y2):\n",
    "    real_x1 = int(round(x1 // ratio))\n",
    "    real_y1 = int(round(y1 // ratio))\n",
    "    real_x2 = int(round(x2 // ratio))\n",
    "    real_y2 = int(round(y2 // ratio))\n",
    "    return (real_x1, real_y1, real_x2 ,real_y2)\n",
    "\n",
    "# opencv로 물체들의 위치와 라벨을 그려준다.\n",
    "all_dets = []\n",
    "\n",
    "for key in bboxes:\n",
    "    bbox = np.array(bboxes[key])\n",
    "    prob = np.array(probs[key])\n",
    "    print('before',bbox.shape, prob.shape)\n",
    "    new_boxes, new_probs = roi_helpers.non_max_suppression_fast(bbox, prob, overlap_thresh=0.5)\n",
    "    print('after',new_boxes.shape, new_probs.shape)\n",
    "    for jk in range(new_boxes.shape[0]):\n",
    "        (x1, y1, x2, y2) = new_boxes[jk,:]\n",
    "\n",
    "        (real_x1, real_y1, real_x2, real_y2) = get_real_coordinates(ratio, x1, y1, x2, y2)\n",
    "\n",
    "        cv2.rectangle(img,(real_x1, real_y1), (real_x2, real_y2), (int(class_to_color[key][0]), int(class_to_color[key][1]), int(class_to_color[key][2])),2)\n",
    "\n",
    "        textLabel = '{}: {}'.format(key,int(100*new_probs[jk]))\n",
    "        all_dets.append((key,100*new_probs[jk]))\n",
    "\n",
    "        (retval,baseLine) = cv2.getTextSize(textLabel,cv2.FONT_HERSHEY_COMPLEX,1,1)\n",
    "        textOrg = (real_x1, real_y1-0)\n",
    "\n",
    "        cv2.rectangle(img, (textOrg[0] - 5, textOrg[1]+baseLine - 5), (textOrg[0]+retval[0] + 5, textOrg[1]-retval[1] - 5), (0, 0, 0), 2)\n",
    "        cv2.rectangle(img, (textOrg[0] - 5,textOrg[1]+baseLine - 5), (textOrg[0]+retval[0] + 5, textOrg[1]-retval[1] - 5), (255, 255, 255), -1)\n",
    "        cv2.putText(img, textLabel, textOrg, cv2.FONT_HERSHEY_DUPLEX, 1, (0, 0, 0), 1)\n",
    "\n",
    "# st = time.time()\n",
    "# print('Elapsed time = {}'.format(time.time() - st))\n",
    "print(all_dets)\n",
    "plt.imshow(img)\n",
    "plt.show()\n",
    "cv2.imwrite('1.png',img)"
   ]
  },
  {
   "cell_type": "code",
   "execution_count": null,
   "metadata": {},
   "outputs": [],
   "source": []
  }
 ],
 "metadata": {
  "kernelspec": {
   "display_name": "Python 3",
   "language": "python",
   "name": "python3"
  },
  "language_info": {
   "codemirror_mode": {
    "name": "ipython",
    "version": 3
   },
   "file_extension": ".py",
   "mimetype": "text/x-python",
   "name": "python",
   "nbconvert_exporter": "python",
   "pygments_lexer": "ipython3",
   "version": "3.7.4"
  }
 },
 "nbformat": 4,
 "nbformat_minor": 2
}
